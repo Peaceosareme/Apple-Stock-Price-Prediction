{
 "cells": [
  {
   "cell_type": "code",
   "execution_count": 59,
   "id": "e879dc1f",
   "metadata": {},
   "outputs": [],
   "source": [
    "import pandas as pd\n",
    "import numpy as np\n",
    "import matplotlib.pyplot as plt\n",
    "import seaborn as sns"
   ]
  },
  {
   "cell_type": "code",
   "execution_count": 60,
   "id": "f3d6c54a",
   "metadata": {},
   "outputs": [],
   "source": [
    "df=pd.read_csv(\"C:/Users/dell/Documents/datasets\\AAPL.csv\")"
   ]
  },
  {
   "cell_type": "code",
   "execution_count": 61,
   "id": "95450ecb",
   "metadata": {},
   "outputs": [
    {
     "data": {
      "text/plain": [
       "(2596, 7)"
      ]
     },
     "execution_count": 61,
     "metadata": {},
     "output_type": "execute_result"
    }
   ],
   "source": [
    "df.shape"
   ]
  },
  {
   "cell_type": "code",
   "execution_count": 62,
   "id": "cfe3bea8",
   "metadata": {},
   "outputs": [
    {
     "data": {
      "text/html": [
       "<div>\n",
       "<style scoped>\n",
       "    .dataframe tbody tr th:only-of-type {\n",
       "        vertical-align: middle;\n",
       "    }\n",
       "\n",
       "    .dataframe tbody tr th {\n",
       "        vertical-align: top;\n",
       "    }\n",
       "\n",
       "    .dataframe thead th {\n",
       "        text-align: right;\n",
       "    }\n",
       "</style>\n",
       "<table border=\"1\" class=\"dataframe\">\n",
       "  <thead>\n",
       "    <tr style=\"text-align: right;\">\n",
       "      <th></th>\n",
       "      <th>Date</th>\n",
       "      <th>Open</th>\n",
       "      <th>High</th>\n",
       "      <th>Low</th>\n",
       "      <th>Close</th>\n",
       "      <th>Adj Close</th>\n",
       "      <th>Volume</th>\n",
       "    </tr>\n",
       "  </thead>\n",
       "  <tbody>\n",
       "    <tr>\n",
       "      <th>0</th>\n",
       "      <td>2013-01-02</td>\n",
       "      <td>19.779285</td>\n",
       "      <td>19.821428</td>\n",
       "      <td>19.343929</td>\n",
       "      <td>19.608213</td>\n",
       "      <td>16.837122</td>\n",
       "      <td>560518000</td>\n",
       "    </tr>\n",
       "    <tr>\n",
       "      <th>1</th>\n",
       "      <td>2013-01-03</td>\n",
       "      <td>19.567142</td>\n",
       "      <td>19.631071</td>\n",
       "      <td>19.321428</td>\n",
       "      <td>19.360714</td>\n",
       "      <td>16.624596</td>\n",
       "      <td>352965200</td>\n",
       "    </tr>\n",
       "    <tr>\n",
       "      <th>2</th>\n",
       "      <td>2013-01-04</td>\n",
       "      <td>19.177500</td>\n",
       "      <td>19.236786</td>\n",
       "      <td>18.779642</td>\n",
       "      <td>18.821428</td>\n",
       "      <td>16.161518</td>\n",
       "      <td>594333600</td>\n",
       "    </tr>\n",
       "    <tr>\n",
       "      <th>3</th>\n",
       "      <td>2013-01-07</td>\n",
       "      <td>18.642857</td>\n",
       "      <td>18.903570</td>\n",
       "      <td>18.400000</td>\n",
       "      <td>18.710714</td>\n",
       "      <td>16.066452</td>\n",
       "      <td>484156400</td>\n",
       "    </tr>\n",
       "    <tr>\n",
       "      <th>4</th>\n",
       "      <td>2013-01-08</td>\n",
       "      <td>18.900356</td>\n",
       "      <td>18.996071</td>\n",
       "      <td>18.616072</td>\n",
       "      <td>18.761070</td>\n",
       "      <td>16.109690</td>\n",
       "      <td>458707200</td>\n",
       "    </tr>\n",
       "  </tbody>\n",
       "</table>\n",
       "</div>"
      ],
      "text/plain": [
       "         Date       Open       High        Low      Close  Adj Close  \\\n",
       "0  2013-01-02  19.779285  19.821428  19.343929  19.608213  16.837122   \n",
       "1  2013-01-03  19.567142  19.631071  19.321428  19.360714  16.624596   \n",
       "2  2013-01-04  19.177500  19.236786  18.779642  18.821428  16.161518   \n",
       "3  2013-01-07  18.642857  18.903570  18.400000  18.710714  16.066452   \n",
       "4  2013-01-08  18.900356  18.996071  18.616072  18.761070  16.109690   \n",
       "\n",
       "      Volume  \n",
       "0  560518000  \n",
       "1  352965200  \n",
       "2  594333600  \n",
       "3  484156400  \n",
       "4  458707200  "
      ]
     },
     "execution_count": 62,
     "metadata": {},
     "output_type": "execute_result"
    }
   ],
   "source": [
    "df.head()"
   ]
  },
  {
   "cell_type": "code",
   "execution_count": 63,
   "id": "1cee3c59",
   "metadata": {},
   "outputs": [],
   "source": [
    "df=df[['Date','Close']]"
   ]
  },
  {
   "cell_type": "code",
   "execution_count": 64,
   "id": "2ac2e140",
   "metadata": {},
   "outputs": [],
   "source": [
    "#change the date column to datetime\n",
    "import datetime\n",
    "def str_to_datetime(s):\n",
    "    split=s.split('-')\n",
    "    year, month, day=int(split[0]),int(split[1]), int(split[2])\n",
    "    return datetime.datetime(year=year, month=month, day=day)\n",
    "\n"
   ]
  },
  {
   "cell_type": "code",
   "execution_count": 65,
   "id": "9c262b9e",
   "metadata": {},
   "outputs": [],
   "source": [
    "df['Date']=df['Date'].apply(str_to_datetime)"
   ]
  },
  {
   "cell_type": "code",
   "execution_count": 66,
   "id": "6417c5f0",
   "metadata": {},
   "outputs": [
    {
     "data": {
      "text/plain": [
       "0      2013-01-02\n",
       "1      2013-01-03\n",
       "2      2013-01-04\n",
       "3      2013-01-07\n",
       "4      2013-01-08\n",
       "          ...    \n",
       "2591   2023-04-19\n",
       "2592   2023-04-20\n",
       "2593   2023-04-21\n",
       "2594   2023-04-24\n",
       "2595   2023-04-25\n",
       "Name: Date, Length: 2596, dtype: datetime64[ns]"
      ]
     },
     "execution_count": 66,
     "metadata": {},
     "output_type": "execute_result"
    }
   ],
   "source": [
    "df['Date']"
   ]
  },
  {
   "cell_type": "code",
   "execution_count": 67,
   "id": "678284ff",
   "metadata": {},
   "outputs": [],
   "source": [
    "df.index=df.pop('Date')"
   ]
  },
  {
   "cell_type": "code",
   "execution_count": 68,
   "id": "06fdcefb",
   "metadata": {},
   "outputs": [
    {
     "data": {
      "text/html": [
       "<div>\n",
       "<style scoped>\n",
       "    .dataframe tbody tr th:only-of-type {\n",
       "        vertical-align: middle;\n",
       "    }\n",
       "\n",
       "    .dataframe tbody tr th {\n",
       "        vertical-align: top;\n",
       "    }\n",
       "\n",
       "    .dataframe thead th {\n",
       "        text-align: right;\n",
       "    }\n",
       "</style>\n",
       "<table border=\"1\" class=\"dataframe\">\n",
       "  <thead>\n",
       "    <tr style=\"text-align: right;\">\n",
       "      <th></th>\n",
       "      <th>Close</th>\n",
       "    </tr>\n",
       "    <tr>\n",
       "      <th>Date</th>\n",
       "      <th></th>\n",
       "    </tr>\n",
       "  </thead>\n",
       "  <tbody>\n",
       "    <tr>\n",
       "      <th>2013-01-02</th>\n",
       "      <td>19.608213</td>\n",
       "    </tr>\n",
       "    <tr>\n",
       "      <th>2013-01-03</th>\n",
       "      <td>19.360714</td>\n",
       "    </tr>\n",
       "    <tr>\n",
       "      <th>2013-01-04</th>\n",
       "      <td>18.821428</td>\n",
       "    </tr>\n",
       "    <tr>\n",
       "      <th>2013-01-07</th>\n",
       "      <td>18.710714</td>\n",
       "    </tr>\n",
       "    <tr>\n",
       "      <th>2013-01-08</th>\n",
       "      <td>18.761070</td>\n",
       "    </tr>\n",
       "    <tr>\n",
       "      <th>...</th>\n",
       "      <td>...</td>\n",
       "    </tr>\n",
       "    <tr>\n",
       "      <th>2023-04-19</th>\n",
       "      <td>167.630005</td>\n",
       "    </tr>\n",
       "    <tr>\n",
       "      <th>2023-04-20</th>\n",
       "      <td>166.649994</td>\n",
       "    </tr>\n",
       "    <tr>\n",
       "      <th>2023-04-21</th>\n",
       "      <td>165.020004</td>\n",
       "    </tr>\n",
       "    <tr>\n",
       "      <th>2023-04-24</th>\n",
       "      <td>165.330002</td>\n",
       "    </tr>\n",
       "    <tr>\n",
       "      <th>2023-04-25</th>\n",
       "      <td>163.770004</td>\n",
       "    </tr>\n",
       "  </tbody>\n",
       "</table>\n",
       "<p>2596 rows × 1 columns</p>\n",
       "</div>"
      ],
      "text/plain": [
       "                 Close\n",
       "Date                  \n",
       "2013-01-02   19.608213\n",
       "2013-01-03   19.360714\n",
       "2013-01-04   18.821428\n",
       "2013-01-07   18.710714\n",
       "2013-01-08   18.761070\n",
       "...                ...\n",
       "2023-04-19  167.630005\n",
       "2023-04-20  166.649994\n",
       "2023-04-21  165.020004\n",
       "2023-04-24  165.330002\n",
       "2023-04-25  163.770004\n",
       "\n",
       "[2596 rows x 1 columns]"
      ]
     },
     "execution_count": 68,
     "metadata": {},
     "output_type": "execute_result"
    }
   ],
   "source": [
    "df"
   ]
  },
  {
   "cell_type": "code",
   "execution_count": 69,
   "id": "e8576d6c",
   "metadata": {
    "scrolled": true
   },
   "outputs": [
    {
     "data": {
      "text/plain": [
       "[<matplotlib.lines.Line2D at 0x1c00ecdbeb0>]"
      ]
     },
     "execution_count": 69,
     "metadata": {},
     "output_type": "execute_result"
    },
    {
     "data": {
      "image/png": "[encoded data removed]",
      "text/plain": [
       "<Figure size 432x288 with 1 Axes>"
      ]
     },
     "metadata": {
      "needs_background": "light"
     },
     "output_type": "display_data"
    }
   ],
   "source": [
    "plt.plot(df.index, df['Close'])"
   ]
  },
  {
   "cell_type": "code",
   "execution_count": 70,
   "id": "2c410580",
   "metadata": {},
   "outputs": [
    {
     "data": {
      "text/html": [
       "<div>\n",
       "<style scoped>\n",
       "    .dataframe tbody tr th:only-of-type {\n",
       "        vertical-align: middle;\n",
       "    }\n",
       "\n",
       "    .dataframe tbody tr th {\n",
       "        vertical-align: top;\n",
       "    }\n",
       "\n",
       "    .dataframe thead th {\n",
       "        text-align: right;\n",
       "    }\n",
       "</style>\n",
       "<table border=\"1\" class=\"dataframe\">\n",
       "  <thead>\n",
       "    <tr style=\"text-align: right;\">\n",
       "      <th></th>\n",
       "      <th>Target Date</th>\n",
       "      <th>Target-3</th>\n",
       "      <th>Target-2</th>\n",
       "      <th>Target-1</th>\n",
       "      <th>Target</th>\n",
       "    </tr>\n",
       "  </thead>\n",
       "  <tbody>\n",
       "    <tr>\n",
       "      <th>0</th>\n",
       "      <td>2019-01-07</td>\n",
       "      <td>39.480000</td>\n",
       "      <td>35.547501</td>\n",
       "      <td>37.064999</td>\n",
       "      <td>36.982498</td>\n",
       "    </tr>\n",
       "    <tr>\n",
       "      <th>1</th>\n",
       "      <td>2019-01-08</td>\n",
       "      <td>35.547501</td>\n",
       "      <td>37.064999</td>\n",
       "      <td>36.982498</td>\n",
       "      <td>37.687500</td>\n",
       "    </tr>\n",
       "    <tr>\n",
       "      <th>2</th>\n",
       "      <td>2019-01-09</td>\n",
       "      <td>37.064999</td>\n",
       "      <td>36.982498</td>\n",
       "      <td>37.687500</td>\n",
       "      <td>38.327499</td>\n",
       "    </tr>\n",
       "    <tr>\n",
       "      <th>3</th>\n",
       "      <td>2019-01-10</td>\n",
       "      <td>36.982498</td>\n",
       "      <td>37.687500</td>\n",
       "      <td>38.327499</td>\n",
       "      <td>38.450001</td>\n",
       "    </tr>\n",
       "    <tr>\n",
       "      <th>4</th>\n",
       "      <td>2019-01-11</td>\n",
       "      <td>37.687500</td>\n",
       "      <td>38.327499</td>\n",
       "      <td>38.450001</td>\n",
       "      <td>38.072498</td>\n",
       "    </tr>\n",
       "    <tr>\n",
       "      <th>...</th>\n",
       "      <td>...</td>\n",
       "      <td>...</td>\n",
       "      <td>...</td>\n",
       "      <td>...</td>\n",
       "      <td>...</td>\n",
       "    </tr>\n",
       "    <tr>\n",
       "      <th>1016</th>\n",
       "      <td>2023-01-19</td>\n",
       "      <td>134.759995</td>\n",
       "      <td>135.940002</td>\n",
       "      <td>135.210007</td>\n",
       "      <td>135.270004</td>\n",
       "    </tr>\n",
       "    <tr>\n",
       "      <th>1017</th>\n",
       "      <td>2023-01-20</td>\n",
       "      <td>135.940002</td>\n",
       "      <td>135.210007</td>\n",
       "      <td>135.270004</td>\n",
       "      <td>137.869995</td>\n",
       "    </tr>\n",
       "    <tr>\n",
       "      <th>1018</th>\n",
       "      <td>2023-01-23</td>\n",
       "      <td>135.210007</td>\n",
       "      <td>135.270004</td>\n",
       "      <td>137.869995</td>\n",
       "      <td>141.110001</td>\n",
       "    </tr>\n",
       "    <tr>\n",
       "      <th>1019</th>\n",
       "      <td>2023-01-24</td>\n",
       "      <td>135.270004</td>\n",
       "      <td>137.869995</td>\n",
       "      <td>141.110001</td>\n",
       "      <td>142.529999</td>\n",
       "    </tr>\n",
       "    <tr>\n",
       "      <th>1020</th>\n",
       "      <td>2023-01-25</td>\n",
       "      <td>137.869995</td>\n",
       "      <td>141.110001</td>\n",
       "      <td>142.529999</td>\n",
       "      <td>141.860001</td>\n",
       "    </tr>\n",
       "  </tbody>\n",
       "</table>\n",
       "<p>1021 rows × 5 columns</p>\n",
       "</div>"
      ],
      "text/plain": [
       "     Target Date    Target-3    Target-2    Target-1      Target\n",
       "0     2019-01-07   39.480000   35.547501   37.064999   36.982498\n",
       "1     2019-01-08   35.547501   37.064999   36.982498   37.687500\n",
       "2     2019-01-09   37.064999   36.982498   37.687500   38.327499\n",
       "3     2019-01-10   36.982498   37.687500   38.327499   38.450001\n",
       "4     2019-01-11   37.687500   38.327499   38.450001   38.072498\n",
       "...          ...         ...         ...         ...         ...\n",
       "1016  2023-01-19  134.759995  135.940002  135.210007  135.270004\n",
       "1017  2023-01-20  135.940002  135.210007  135.270004  137.869995\n",
       "1018  2023-01-23  135.210007  135.270004  137.869995  141.110001\n",
       "1019  2023-01-24  135.270004  137.869995  141.110001  142.529999\n",
       "1020  2023-01-25  137.869995  141.110001  142.529999  141.860001\n",
       "\n",
       "[1021 rows x 5 columns]"
      ]
     },
     "execution_count": 70,
     "metadata": {},
     "output_type": "execute_result"
    }
   ],
   "source": [
    "def data_to_df(dataframe, first_date_str, last_date_str, n=3):\n",
    "    first_date=str_to_datetime(first_date_str)\n",
    "    last_date=str_to_datetime(last_date_str)\n",
    "    \n",
    "    target_date=first_date\n",
    "    \n",
    "    dates=[]\n",
    "    X, Y=[],[]\n",
    "    \n",
    "    last_time=False\n",
    "    while True:\n",
    "        df_subset=dataframe.loc[:target_date].tail(n+1)\n",
    "        \n",
    "        if len(df_subset) != n +1:\n",
    "            print(f'Error: Window of size {n} is too large for date {target_date}')\n",
    "            return\n",
    "        \n",
    "        values=df_subset['Close'].to_numpy()\n",
    "        x,y=values[:-1], values[-1]\n",
    "        \n",
    "        dates.append(target_date)\n",
    "        X.append(x)\n",
    "        Y.append(y)\n",
    "        \n",
    "        next_week=dataframe.loc[target_date:target_date+datetime.timedelta(days=7)]\n",
    "        next_datetime_str=str(next_week.head(2).tail(1).index.values[0])\n",
    "        next_date_str=next_datetime_str.split('T')[0]\n",
    "        year_month_day=next_date_str.split('-')\n",
    "        year, month, day=year_month_day\n",
    "        next_date=datetime.datetime(day=int(day), month=int(month), year=int(year))\n",
    "        \n",
    "        if last_time:\n",
    "            break\n",
    "        \n",
    "        target_date=next_date\n",
    "        \n",
    "        if target_date==last_date:\n",
    "            last_time=True\n",
    "        \n",
    "    ret_df=pd.DataFrame({})\n",
    "    ret_df['Target Date']=dates\n",
    "        \n",
    "    X=np.array(X)\n",
    "    for i in range(0,n):\n",
    "        X[:,i]\n",
    "        ret_df[f'Target-{n-i}'] = X[:,i]\n",
    "            \n",
    "    ret_df['Target']=Y\n",
    "        \n",
    "    return ret_df\n",
    "    \n",
    "windowed_df=data_to_df(df,'2019-01-07','2023-01-25',n=3)\n",
    "windowed_df"
   ]
  },
  {
   "cell_type": "code",
   "execution_count": 71,
   "id": "c382a711",
   "metadata": {},
   "outputs": [
    {
     "data": {
      "text/plain": [
       "((1021,), (1021, 3, 1), (1021,))"
      ]
     },
     "execution_count": 71,
     "metadata": {},
     "output_type": "execute_result"
    }
   ],
   "source": [
    "def windowed_df_to_date_X_y(windowed_dataframe):\n",
    "    df_as_np=windowed_dataframe.to_numpy()\n",
    "    \n",
    "    dates=df_as_np[:,0] # to get the dates column\n",
    "    \n",
    "    middle_matrix=df_as_np[:, 1:-1] #get all the columns except the dates and target columns\n",
    "    X=middle_matrix.reshape((len(dates), middle_matrix.shape[1], 1))\n",
    "    \n",
    "    Y=df_as_np[:, -1]\n",
    "    \n",
    "    return dates, X.astype(np.float32), Y.astype(np.float32)\n",
    "dates, X, y  =windowed_df_to_date_X_y(windowed_df)\n",
    "\n",
    "dates.shape, X.shape, y.shape"
   ]
  },
  {
   "cell_type": "code",
   "execution_count": 82,
   "id": "ee0fc627",
   "metadata": {},
   "outputs": [
    {
     "data": {
      "text/plain": [
       "<matplotlib.legend.Legend at 0x1c019698fa0>"
      ]
     },
     "execution_count": 82,
     "metadata": {},
     "output_type": "execute_result"
    },
    {
     "data": {
      "image/png": "[encoded data removed]",
      "text/plain": [
       "<Figure size 432x288 with 1 Axes>"
      ]
     },
     "metadata": {
      "needs_background": "light"
     },
     "output_type": "display_data"
    }
   ],
   "source": [
    "y_80=int(len(dates) * 0.8)\n",
    "y_90=int(len(dates) * 0.9)\n",
    "\n",
    "dates_train, x_train, y_train=dates[:y_80], X[:y_80], y[:y_80]\n",
    "\n",
    "dates_val, x_val, y_val=dates[y_80:y_90],X[y_80:y_90],y[y_80:y_90]\n",
    "\n",
    "dates_test, x_test, y_test=dates[y_90:], X[y_90:], y[y_90:]\n",
    "\n",
    "plt.plot(dates_train, y_train)\n",
    "plt.plot(dates_val, y_val)\n",
    "plt.plot(dates_test, y_test)\n",
    "\n",
    "plt.legend(['Train', 'Validation','Test'])"
   ]
  },
  {
   "cell_type": "code",
   "execution_count": 83,
   "id": "b2147863",
   "metadata": {},
   "outputs": [
    {
     "name": "stdout",
     "output_type": "stream",
     "text": [
      "Epoch 1/200\n",
      "26/26 [==============================] - 3s 25ms/step - loss: 11801.1260 - mean_absolute_error: 99.9304 - val_loss: 22908.8379 - val_mean_absolute_error: 150.8292\n",
      "Epoch 2/200\n",
      "26/26 [==============================] - 0s 5ms/step - loss: 10666.6094 - mean_absolute_error: 93.7542 - val_loss: 19692.6387 - val_mean_absolute_error: 139.7531\n",
      "Epoch 3/200\n",
      "26/26 [==============================] - 0s 5ms/step - loss: 6965.2690 - mean_absolute_error: 69.6999 - val_loss: 9748.3955 - val_mean_absolute_error: 97.8173\n",
      "Epoch 4/200\n",
      "26/26 [==============================] - 0s 5ms/step - loss: 2297.4231 - mean_absolute_error: 41.1977 - val_loss: 2328.0496 - val_mean_absolute_error: 46.5831\n",
      "Epoch 5/200\n",
      "26/26 [==============================] - 0s 5ms/step - loss: 1519.6820 - mean_absolute_error: 35.0213 - val_loss: 2228.4797 - val_mean_absolute_error: 45.7265\n",
      "Epoch 6/200\n",
      "26/26 [==============================] - 0s 5ms/step - loss: 408.3436 - mean_absolute_error: 14.0046 - val_loss: 346.0424 - val_mean_absolute_error: 15.5731\n",
      "Epoch 7/200\n",
      "26/26 [==============================] - 0s 5ms/step - loss: 55.9068 - mean_absolute_error: 4.0162 - val_loss: 57.5141 - val_mean_absolute_error: 5.9157\n",
      "Epoch 8/200\n",
      "26/26 [==============================] - 0s 5ms/step - loss: 15.6683 - mean_absolute_error: 2.3246 - val_loss: 26.3658 - val_mean_absolute_error: 4.1073\n",
      "Epoch 9/200\n",
      "26/26 [==============================] - 0s 5ms/step - loss: 9.6255 - mean_absolute_error: 1.9927 - val_loss: 15.8851 - val_mean_absolute_error: 3.2217\n",
      "Epoch 10/200\n",
      "26/26 [==============================] - 0s 5ms/step - loss: 7.2309 - mean_absolute_error: 1.8820 - val_loss: 14.0649 - val_mean_absolute_error: 2.9724\n",
      "Epoch 11/200\n",
      "26/26 [==============================] - 0s 5ms/step - loss: 6.4094 - mean_absolute_error: 1.7895 - val_loss: 20.5566 - val_mean_absolute_error: 3.5282\n",
      "Epoch 12/200\n",
      "26/26 [==============================] - 0s 5ms/step - loss: 6.2024 - mean_absolute_error: 1.7901 - val_loss: 24.8648 - val_mean_absolute_error: 3.8756\n",
      "Epoch 13/200\n",
      "26/26 [==============================] - 0s 5ms/step - loss: 6.3107 - mean_absolute_error: 1.7946 - val_loss: 13.9459 - val_mean_absolute_error: 2.9181\n",
      "Epoch 14/200\n",
      "26/26 [==============================] - 0s 5ms/step - loss: 5.4665 - mean_absolute_error: 1.6546 - val_loss: 14.8084 - val_mean_absolute_error: 2.9891\n",
      "Epoch 15/200\n",
      "26/26 [==============================] - 0s 5ms/step - loss: 5.3656 - mean_absolute_error: 1.6303 - val_loss: 12.7534 - val_mean_absolute_error: 2.8075\n",
      "Epoch 16/200\n",
      "26/26 [==============================] - 0s 5ms/step - loss: 5.8351 - mean_absolute_error: 1.7152 - val_loss: 15.0455 - val_mean_absolute_error: 3.0721\n",
      "Epoch 17/200\n",
      "26/26 [==============================] - 0s 5ms/step - loss: 5.0202 - mean_absolute_error: 1.5651 - val_loss: 13.4154 - val_mean_absolute_error: 2.9743\n",
      "Epoch 18/200\n",
      "26/26 [==============================] - 0s 5ms/step - loss: 6.0702 - mean_absolute_error: 1.8079 - val_loss: 16.5799 - val_mean_absolute_error: 3.4495\n",
      "Epoch 19/200\n",
      "26/26 [==============================] - 0s 5ms/step - loss: 5.3784 - mean_absolute_error: 1.6623 - val_loss: 13.1245 - val_mean_absolute_error: 2.9124\n",
      "Epoch 20/200\n",
      "26/26 [==============================] - 0s 5ms/step - loss: 6.7220 - mean_absolute_error: 1.8525 - val_loss: 13.6187 - val_mean_absolute_error: 2.8545\n",
      "Epoch 21/200\n",
      "26/26 [==============================] - 0s 5ms/step - loss: 6.8087 - mean_absolute_error: 1.8780 - val_loss: 11.9918 - val_mean_absolute_error: 2.6869\n",
      "Epoch 22/200\n",
      "26/26 [==============================] - 0s 5ms/step - loss: 5.5360 - mean_absolute_error: 1.6736 - val_loss: 14.3585 - val_mean_absolute_error: 2.9841\n",
      "Epoch 23/200\n",
      "26/26 [==============================] - 0s 5ms/step - loss: 5.0569 - mean_absolute_error: 1.5851 - val_loss: 18.0375 - val_mean_absolute_error: 3.2956\n",
      "Epoch 24/200\n",
      "26/26 [==============================] - 0s 5ms/step - loss: 5.7884 - mean_absolute_error: 1.7561 - val_loss: 20.3434 - val_mean_absolute_error: 3.5489\n",
      "Epoch 25/200\n",
      "26/26 [==============================] - 0s 5ms/step - loss: 10.5447 - mean_absolute_error: 2.5237 - val_loss: 25.7483 - val_mean_absolute_error: 4.0022\n",
      "Epoch 26/200\n",
      "26/26 [==============================] - 0s 5ms/step - loss: 7.9120 - mean_absolute_error: 2.0409 - val_loss: 14.2148 - val_mean_absolute_error: 2.9350\n",
      "Epoch 27/200\n",
      "26/26 [==============================] - 0s 5ms/step - loss: 5.0474 - mean_absolute_error: 1.6015 - val_loss: 12.1954 - val_mean_absolute_error: 2.7336\n",
      "Epoch 28/200\n",
      "26/26 [==============================] - 0s 5ms/step - loss: 5.3487 - mean_absolute_error: 1.6746 - val_loss: 12.2596 - val_mean_absolute_error: 2.7277\n",
      "Epoch 29/200\n",
      "26/26 [==============================] - 0s 5ms/step - loss: 5.2688 - mean_absolute_error: 1.6345 - val_loss: 20.4817 - val_mean_absolute_error: 3.5718\n",
      "Epoch 30/200\n",
      "26/26 [==============================] - 0s 5ms/step - loss: 5.0085 - mean_absolute_error: 1.6276 - val_loss: 12.6684 - val_mean_absolute_error: 2.7735\n",
      "Epoch 31/200\n",
      "26/26 [==============================] - 0s 5ms/step - loss: 5.3367 - mean_absolute_error: 1.6436 - val_loss: 12.9895 - val_mean_absolute_error: 2.8076\n",
      "Epoch 32/200\n",
      "26/26 [==============================] - 0s 5ms/step - loss: 4.9962 - mean_absolute_error: 1.6161 - val_loss: 12.4109 - val_mean_absolute_error: 2.7310\n",
      "Epoch 33/200\n",
      "26/26 [==============================] - 0s 5ms/step - loss: 5.0885 - mean_absolute_error: 1.5954 - val_loss: 11.6447 - val_mean_absolute_error: 2.6258\n",
      "Epoch 34/200\n",
      "26/26 [==============================] - 0s 5ms/step - loss: 5.0856 - mean_absolute_error: 1.6216 - val_loss: 13.5784 - val_mean_absolute_error: 2.9303\n",
      "Epoch 35/200\n",
      "26/26 [==============================] - 0s 5ms/step - loss: 5.1061 - mean_absolute_error: 1.6261 - val_loss: 12.3435 - val_mean_absolute_error: 2.7819\n",
      "Epoch 36/200\n",
      "26/26 [==============================] - 0s 5ms/step - loss: 5.9315 - mean_absolute_error: 1.7865 - val_loss: 12.4374 - val_mean_absolute_error: 2.7511\n",
      "Epoch 37/200\n",
      "26/26 [==============================] - 0s 6ms/step - loss: 5.5959 - mean_absolute_error: 1.7174 - val_loss: 14.9328 - val_mean_absolute_error: 2.9949\n",
      "Epoch 38/200\n",
      "26/26 [==============================] - 0s 5ms/step - loss: 5.4426 - mean_absolute_error: 1.6914 - val_loss: 12.5120 - val_mean_absolute_error: 2.7895\n",
      "Epoch 39/200\n",
      "26/26 [==============================] - 0s 5ms/step - loss: 5.3674 - mean_absolute_error: 1.6656 - val_loss: 12.6452 - val_mean_absolute_error: 2.8321\n",
      "Epoch 40/200\n",
      "26/26 [==============================] - 0s 5ms/step - loss: 5.3221 - mean_absolute_error: 1.6612 - val_loss: 12.2747 - val_mean_absolute_error: 2.7510\n",
      "Epoch 41/200\n",
      "26/26 [==============================] - 0s 5ms/step - loss: 5.9273 - mean_absolute_error: 1.7856 - val_loss: 15.3576 - val_mean_absolute_error: 3.1732\n",
      "Epoch 42/200\n",
      "26/26 [==============================] - 0s 5ms/step - loss: 6.3730 - mean_absolute_error: 1.7894 - val_loss: 15.4335 - val_mean_absolute_error: 3.2288\n",
      "Epoch 43/200\n",
      "26/26 [==============================] - 0s 5ms/step - loss: 7.6264 - mean_absolute_error: 2.0435 - val_loss: 15.1876 - val_mean_absolute_error: 3.1621\n",
      "Epoch 44/200\n",
      "26/26 [==============================] - 0s 5ms/step - loss: 5.1083 - mean_absolute_error: 1.5988 - val_loss: 14.6099 - val_mean_absolute_error: 2.9685\n",
      "Epoch 45/200\n",
      "26/26 [==============================] - 0s 5ms/step - loss: 5.4951 - mean_absolute_error: 1.7013 - val_loss: 11.8972 - val_mean_absolute_error: 2.6870\n",
      "Epoch 46/200\n",
      "26/26 [==============================] - 0s 5ms/step - loss: 5.5500 - mean_absolute_error: 1.7381 - val_loss: 15.4630 - val_mean_absolute_error: 3.1527\n",
      "Epoch 47/200\n",
      "26/26 [==============================] - 0s 5ms/step - loss: 5.5485 - mean_absolute_error: 1.7307 - val_loss: 12.5379 - val_mean_absolute_error: 2.8097\n",
      "Epoch 48/200\n",
      "26/26 [==============================] - 0s 5ms/step - loss: 5.4699 - mean_absolute_error: 1.6948 - val_loss: 13.1866 - val_mean_absolute_error: 2.9187\n",
      "Epoch 49/200\n",
      "26/26 [==============================] - 0s 5ms/step - loss: 6.0622 - mean_absolute_error: 1.8075 - val_loss: 16.0047 - val_mean_absolute_error: 3.3525\n",
      "Epoch 50/200\n"
     ]
    },
    {
     "name": "stdout",
     "output_type": "stream",
     "text": [
      "26/26 [==============================] - 0s 5ms/step - loss: 5.7614 - mean_absolute_error: 1.7685 - val_loss: 11.9247 - val_mean_absolute_error: 2.6974\n",
      "Epoch 51/200\n",
      "26/26 [==============================] - 0s 5ms/step - loss: 6.0211 - mean_absolute_error: 1.8279 - val_loss: 13.9628 - val_mean_absolute_error: 2.9565\n",
      "Epoch 52/200\n",
      "26/26 [==============================] - 0s 5ms/step - loss: 4.9386 - mean_absolute_error: 1.5717 - val_loss: 20.8573 - val_mean_absolute_error: 3.9410\n",
      "Epoch 53/200\n",
      "26/26 [==============================] - 0s 5ms/step - loss: 6.1530 - mean_absolute_error: 1.8340 - val_loss: 13.0583 - val_mean_absolute_error: 2.8901\n",
      "Epoch 54/200\n",
      "26/26 [==============================] - 0s 5ms/step - loss: 5.6175 - mean_absolute_error: 1.6793 - val_loss: 11.9731 - val_mean_absolute_error: 2.7071\n",
      "Epoch 55/200\n",
      "26/26 [==============================] - 0s 5ms/step - loss: 4.9994 - mean_absolute_error: 1.6119 - val_loss: 12.0293 - val_mean_absolute_error: 2.7293\n",
      "Epoch 56/200\n",
      "26/26 [==============================] - 0s 5ms/step - loss: 5.9922 - mean_absolute_error: 1.7611 - val_loss: 17.9787 - val_mean_absolute_error: 3.2968\n",
      "Epoch 57/200\n",
      "26/26 [==============================] - 0s 5ms/step - loss: 5.1650 - mean_absolute_error: 1.6491 - val_loss: 13.5377 - val_mean_absolute_error: 2.8871\n",
      "Epoch 58/200\n",
      "26/26 [==============================] - 0s 5ms/step - loss: 5.0136 - mean_absolute_error: 1.5936 - val_loss: 12.7206 - val_mean_absolute_error: 2.8425\n",
      "Epoch 59/200\n",
      "26/26 [==============================] - 0s 5ms/step - loss: 5.8733 - mean_absolute_error: 1.7713 - val_loss: 12.2179 - val_mean_absolute_error: 2.7567\n",
      "Epoch 60/200\n",
      "26/26 [==============================] - 0s 5ms/step - loss: 4.8908 - mean_absolute_error: 1.5755 - val_loss: 12.1570 - val_mean_absolute_error: 2.7431\n",
      "Epoch 61/200\n",
      "26/26 [==============================] - 0s 5ms/step - loss: 4.8949 - mean_absolute_error: 1.5528 - val_loss: 17.3217 - val_mean_absolute_error: 3.2664\n",
      "Epoch 62/200\n",
      "26/26 [==============================] - 0s 5ms/step - loss: 4.7850 - mean_absolute_error: 1.5345 - val_loss: 12.3593 - val_mean_absolute_error: 2.7154\n",
      "Epoch 63/200\n",
      "26/26 [==============================] - 0s 5ms/step - loss: 4.8987 - mean_absolute_error: 1.5727 - val_loss: 13.0133 - val_mean_absolute_error: 2.7642\n",
      "Epoch 64/200\n",
      "26/26 [==============================] - 0s 5ms/step - loss: 5.7801 - mean_absolute_error: 1.7029 - val_loss: 13.1168 - val_mean_absolute_error: 2.8802\n",
      "Epoch 65/200\n",
      "26/26 [==============================] - 0s 5ms/step - loss: 6.2783 - mean_absolute_error: 1.8094 - val_loss: 12.4506 - val_mean_absolute_error: 2.7978\n",
      "Epoch 66/200\n",
      "26/26 [==============================] - 0s 5ms/step - loss: 5.0906 - mean_absolute_error: 1.6280 - val_loss: 12.1552 - val_mean_absolute_error: 2.7346\n",
      "Epoch 67/200\n",
      "26/26 [==============================] - 0s 5ms/step - loss: 5.1601 - mean_absolute_error: 1.6303 - val_loss: 13.2267 - val_mean_absolute_error: 2.8731\n",
      "Epoch 68/200\n",
      "26/26 [==============================] - 0s 5ms/step - loss: 4.9224 - mean_absolute_error: 1.5784 - val_loss: 13.0247 - val_mean_absolute_error: 2.9056\n",
      "Epoch 69/200\n",
      "26/26 [==============================] - 0s 5ms/step - loss: 5.5904 - mean_absolute_error: 1.7235 - val_loss: 12.9403 - val_mean_absolute_error: 2.8326\n",
      "Epoch 70/200\n",
      "26/26 [==============================] - 0s 5ms/step - loss: 5.3303 - mean_absolute_error: 1.6568 - val_loss: 14.2877 - val_mean_absolute_error: 3.0355\n",
      "Epoch 71/200\n",
      "26/26 [==============================] - 0s 5ms/step - loss: 5.5799 - mean_absolute_error: 1.7261 - val_loss: 14.8194 - val_mean_absolute_error: 3.0297\n",
      "Epoch 72/200\n",
      "26/26 [==============================] - 0s 5ms/step - loss: 5.0004 - mean_absolute_error: 1.6078 - val_loss: 14.0558 - val_mean_absolute_error: 3.0875\n",
      "Epoch 73/200\n",
      "26/26 [==============================] - 0s 5ms/step - loss: 5.5367 - mean_absolute_error: 1.7103 - val_loss: 12.4745 - val_mean_absolute_error: 2.7552\n",
      "Epoch 74/200\n",
      "26/26 [==============================] - 0s 5ms/step - loss: 4.7167 - mean_absolute_error: 1.5323 - val_loss: 13.4460 - val_mean_absolute_error: 2.9411\n",
      "Epoch 75/200\n",
      "26/26 [==============================] - 0s 5ms/step - loss: 6.2295 - mean_absolute_error: 1.8551 - val_loss: 16.1664 - val_mean_absolute_error: 3.3270\n",
      "Epoch 76/200\n",
      "26/26 [==============================] - 0s 5ms/step - loss: 5.2489 - mean_absolute_error: 1.6419 - val_loss: 12.0988 - val_mean_absolute_error: 2.7240\n",
      "Epoch 77/200\n",
      "26/26 [==============================] - 0s 5ms/step - loss: 4.8772 - mean_absolute_error: 1.5796 - val_loss: 14.2065 - val_mean_absolute_error: 2.9556\n",
      "Epoch 78/200\n",
      "26/26 [==============================] - 0s 5ms/step - loss: 5.2282 - mean_absolute_error: 1.6516 - val_loss: 12.1063 - val_mean_absolute_error: 2.6806\n",
      "Epoch 79/200\n",
      "26/26 [==============================] - 0s 5ms/step - loss: 5.3209 - mean_absolute_error: 1.6586 - val_loss: 15.8702 - val_mean_absolute_error: 3.1110\n",
      "Epoch 80/200\n",
      "26/26 [==============================] - 0s 5ms/step - loss: 5.3316 - mean_absolute_error: 1.6433 - val_loss: 13.6520 - val_mean_absolute_error: 2.8770\n",
      "Epoch 81/200\n",
      "26/26 [==============================] - 0s 5ms/step - loss: 4.9049 - mean_absolute_error: 1.5665 - val_loss: 14.7592 - val_mean_absolute_error: 2.9542\n",
      "Epoch 82/200\n",
      "26/26 [==============================] - 0s 5ms/step - loss: 5.3056 - mean_absolute_error: 1.6851 - val_loss: 13.1151 - val_mean_absolute_error: 2.8982\n",
      "Epoch 83/200\n",
      "26/26 [==============================] - 0s 5ms/step - loss: 5.0392 - mean_absolute_error: 1.5672 - val_loss: 13.9952 - val_mean_absolute_error: 2.9768\n",
      "Epoch 84/200\n",
      "26/26 [==============================] - 0s 5ms/step - loss: 5.9509 - mean_absolute_error: 1.7691 - val_loss: 12.8290 - val_mean_absolute_error: 2.8586\n",
      "Epoch 85/200\n",
      "26/26 [==============================] - 0s 6ms/step - loss: 6.0847 - mean_absolute_error: 1.8001 - val_loss: 15.3317 - val_mean_absolute_error: 3.2447\n",
      "Epoch 86/200\n",
      "26/26 [==============================] - 0s 5ms/step - loss: 5.4632 - mean_absolute_error: 1.6655 - val_loss: 16.9680 - val_mean_absolute_error: 3.2839\n",
      "Epoch 87/200\n",
      "26/26 [==============================] - 0s 5ms/step - loss: 5.2115 - mean_absolute_error: 1.6360 - val_loss: 14.2646 - val_mean_absolute_error: 2.9747\n",
      "Epoch 88/200\n",
      "26/26 [==============================] - 0s 5ms/step - loss: 5.6330 - mean_absolute_error: 1.6711 - val_loss: 18.0395 - val_mean_absolute_error: 3.3066\n",
      "Epoch 89/200\n",
      "26/26 [==============================] - 0s 5ms/step - loss: 5.5713 - mean_absolute_error: 1.7389 - val_loss: 12.1180 - val_mean_absolute_error: 2.7319\n",
      "Epoch 90/200\n",
      "26/26 [==============================] - 0s 5ms/step - loss: 5.3394 - mean_absolute_error: 1.6380 - val_loss: 13.2304 - val_mean_absolute_error: 2.8468\n",
      "Epoch 91/200\n",
      "26/26 [==============================] - 0s 5ms/step - loss: 5.7494 - mean_absolute_error: 1.7641 - val_loss: 12.7214 - val_mean_absolute_error: 2.8341\n",
      "Epoch 92/200\n",
      "26/26 [==============================] - 0s 5ms/step - loss: 7.3468 - mean_absolute_error: 2.0495 - val_loss: 28.0299 - val_mean_absolute_error: 4.5666\n",
      "Epoch 93/200\n",
      "26/26 [==============================] - 0s 5ms/step - loss: 7.2171 - mean_absolute_error: 1.9556 - val_loss: 13.6881 - val_mean_absolute_error: 2.9490\n",
      "Epoch 94/200\n",
      "26/26 [==============================] - 0s 5ms/step - loss: 5.0625 - mean_absolute_error: 1.5966 - val_loss: 15.3880 - val_mean_absolute_error: 3.0456\n",
      "Epoch 95/200\n",
      "26/26 [==============================] - 0s 5ms/step - loss: 5.2432 - mean_absolute_error: 1.6476 - val_loss: 11.7667 - val_mean_absolute_error: 2.6428\n",
      "Epoch 96/200\n",
      "26/26 [==============================] - 0s 5ms/step - loss: 5.3118 - mean_absolute_error: 1.6804 - val_loss: 13.1695 - val_mean_absolute_error: 2.9045\n",
      "Epoch 97/200\n",
      "26/26 [==============================] - 0s 5ms/step - loss: 5.3220 - mean_absolute_error: 1.6609 - val_loss: 12.2287 - val_mean_absolute_error: 2.7002\n",
      "Epoch 98/200\n",
      "26/26 [==============================] - 0s 5ms/step - loss: 4.8839 - mean_absolute_error: 1.5520 - val_loss: 13.5990 - val_mean_absolute_error: 3.0116\n",
      "Epoch 99/200\n",
      "26/26 [==============================] - 0s 5ms/step - loss: 5.3959 - mean_absolute_error: 1.6485 - val_loss: 11.9813 - val_mean_absolute_error: 2.6961\n"
     ]
    },
    {
     "name": "stdout",
     "output_type": "stream",
     "text": [
      "Epoch 100/200\n",
      "26/26 [==============================] - 0s 5ms/step - loss: 5.2531 - mean_absolute_error: 1.6373 - val_loss: 16.9514 - val_mean_absolute_error: 3.4073\n",
      "Epoch 101/200\n",
      "26/26 [==============================] - 0s 5ms/step - loss: 5.9008 - mean_absolute_error: 1.7691 - val_loss: 24.5309 - val_mean_absolute_error: 4.2512\n",
      "Epoch 102/200\n",
      "26/26 [==============================] - 0s 5ms/step - loss: 5.0639 - mean_absolute_error: 1.5900 - val_loss: 13.1092 - val_mean_absolute_error: 2.7969\n",
      "Epoch 103/200\n",
      "26/26 [==============================] - 0s 5ms/step - loss: 5.0201 - mean_absolute_error: 1.6129 - val_loss: 14.6142 - val_mean_absolute_error: 3.0806\n",
      "Epoch 104/200\n",
      "26/26 [==============================] - 0s 5ms/step - loss: 4.9084 - mean_absolute_error: 1.5847 - val_loss: 12.1521 - val_mean_absolute_error: 2.7705\n",
      "Epoch 105/200\n",
      "26/26 [==============================] - 0s 5ms/step - loss: 5.5075 - mean_absolute_error: 1.7326 - val_loss: 13.6438 - val_mean_absolute_error: 2.9197\n",
      "Epoch 106/200\n",
      "26/26 [==============================] - 0s 5ms/step - loss: 4.9739 - mean_absolute_error: 1.6322 - val_loss: 11.8764 - val_mean_absolute_error: 2.6457\n",
      "Epoch 107/200\n",
      "26/26 [==============================] - 0s 5ms/step - loss: 4.9953 - mean_absolute_error: 1.5623 - val_loss: 13.2163 - val_mean_absolute_error: 2.9667\n",
      "Epoch 108/200\n",
      "26/26 [==============================] - 0s 5ms/step - loss: 5.0263 - mean_absolute_error: 1.6124 - val_loss: 15.6496 - val_mean_absolute_error: 3.3534\n",
      "Epoch 109/200\n",
      "26/26 [==============================] - 0s 5ms/step - loss: 4.8559 - mean_absolute_error: 1.5631 - val_loss: 13.0185 - val_mean_absolute_error: 2.8283\n",
      "Epoch 110/200\n",
      "26/26 [==============================] - 0s 5ms/step - loss: 5.3555 - mean_absolute_error: 1.6249 - val_loss: 11.8140 - val_mean_absolute_error: 2.6570\n",
      "Epoch 111/200\n",
      "26/26 [==============================] - 0s 5ms/step - loss: 5.1931 - mean_absolute_error: 1.6954 - val_loss: 13.7170 - val_mean_absolute_error: 3.0008\n",
      "Epoch 112/200\n",
      "26/26 [==============================] - 0s 5ms/step - loss: 5.4876 - mean_absolute_error: 1.6830 - val_loss: 15.1205 - val_mean_absolute_error: 2.9631\n",
      "Epoch 113/200\n",
      "26/26 [==============================] - 0s 5ms/step - loss: 5.5063 - mean_absolute_error: 1.6914 - val_loss: 15.5282 - val_mean_absolute_error: 3.0897\n",
      "Epoch 114/200\n",
      "26/26 [==============================] - 0s 5ms/step - loss: 5.5530 - mean_absolute_error: 1.6922 - val_loss: 16.8222 - val_mean_absolute_error: 3.2196\n",
      "Epoch 115/200\n",
      "26/26 [==============================] - 0s 5ms/step - loss: 5.2800 - mean_absolute_error: 1.7126 - val_loss: 14.0509 - val_mean_absolute_error: 2.9971\n",
      "Epoch 116/200\n",
      "26/26 [==============================] - 0s 5ms/step - loss: 5.6043 - mean_absolute_error: 1.8149 - val_loss: 18.5711 - val_mean_absolute_error: 3.4657\n",
      "Epoch 117/200\n",
      "26/26 [==============================] - 0s 5ms/step - loss: 5.0166 - mean_absolute_error: 1.6124 - val_loss: 12.7492 - val_mean_absolute_error: 2.7767\n",
      "Epoch 118/200\n",
      "26/26 [==============================] - 0s 5ms/step - loss: 5.1672 - mean_absolute_error: 1.6224 - val_loss: 12.1660 - val_mean_absolute_error: 2.7049\n",
      "Epoch 119/200\n",
      "26/26 [==============================] - 0s 5ms/step - loss: 5.1868 - mean_absolute_error: 1.6469 - val_loss: 22.5628 - val_mean_absolute_error: 3.7523\n",
      "Epoch 120/200\n",
      "26/26 [==============================] - 0s 5ms/step - loss: 6.7878 - mean_absolute_error: 1.9425 - val_loss: 13.3141 - val_mean_absolute_error: 2.8839\n",
      "Epoch 121/200\n",
      "26/26 [==============================] - 0s 5ms/step - loss: 6.2784 - mean_absolute_error: 1.8927 - val_loss: 12.9869 - val_mean_absolute_error: 2.9026\n",
      "Epoch 122/200\n",
      "26/26 [==============================] - 0s 5ms/step - loss: 4.8823 - mean_absolute_error: 1.5455 - val_loss: 12.1775 - val_mean_absolute_error: 2.7712\n",
      "Epoch 123/200\n",
      "26/26 [==============================] - 0s 5ms/step - loss: 5.6751 - mean_absolute_error: 1.7614 - val_loss: 13.9727 - val_mean_absolute_error: 3.0567\n",
      "Epoch 124/200\n",
      "26/26 [==============================] - 0s 5ms/step - loss: 5.3770 - mean_absolute_error: 1.6748 - val_loss: 14.1326 - val_mean_absolute_error: 3.0172\n",
      "Epoch 125/200\n",
      "26/26 [==============================] - 0s 5ms/step - loss: 5.6677 - mean_absolute_error: 1.6831 - val_loss: 13.3509 - val_mean_absolute_error: 2.8304\n",
      "Epoch 126/200\n",
      "26/26 [==============================] - 0s 5ms/step - loss: 4.9117 - mean_absolute_error: 1.5791 - val_loss: 12.5126 - val_mean_absolute_error: 2.8363\n",
      "Epoch 127/200\n",
      "26/26 [==============================] - 0s 5ms/step - loss: 4.8727 - mean_absolute_error: 1.5357 - val_loss: 11.9897 - val_mean_absolute_error: 2.6932\n",
      "Epoch 128/200\n",
      "26/26 [==============================] - 0s 5ms/step - loss: 5.4183 - mean_absolute_error: 1.6527 - val_loss: 12.6346 - val_mean_absolute_error: 2.6888\n",
      "Epoch 129/200\n",
      "26/26 [==============================] - 0s 5ms/step - loss: 7.3218 - mean_absolute_error: 2.0285 - val_loss: 12.2959 - val_mean_absolute_error: 2.7558\n",
      "Epoch 130/200\n",
      "26/26 [==============================] - 0s 5ms/step - loss: 5.4962 - mean_absolute_error: 1.7350 - val_loss: 12.1622 - val_mean_absolute_error: 2.6926\n",
      "Epoch 131/200\n",
      "26/26 [==============================] - 0s 5ms/step - loss: 4.9170 - mean_absolute_error: 1.5608 - val_loss: 12.7505 - val_mean_absolute_error: 2.8859\n",
      "Epoch 132/200\n",
      "26/26 [==============================] - 0s 5ms/step - loss: 4.9897 - mean_absolute_error: 1.5539 - val_loss: 13.4149 - val_mean_absolute_error: 2.9270\n",
      "Epoch 133/200\n",
      "26/26 [==============================] - 0s 6ms/step - loss: 5.7641 - mean_absolute_error: 1.7407 - val_loss: 18.4065 - val_mean_absolute_error: 3.5832\n",
      "Epoch 134/200\n",
      "26/26 [==============================] - 0s 5ms/step - loss: 7.2191 - mean_absolute_error: 2.0388 - val_loss: 20.8641 - val_mean_absolute_error: 3.5757\n",
      "Epoch 135/200\n",
      "26/26 [==============================] - 0s 5ms/step - loss: 6.6531 - mean_absolute_error: 1.8671 - val_loss: 15.8522 - val_mean_absolute_error: 3.1832\n",
      "Epoch 136/200\n",
      "26/26 [==============================] - 0s 5ms/step - loss: 5.2335 - mean_absolute_error: 1.6478 - val_loss: 12.0263 - val_mean_absolute_error: 2.7158\n",
      "Epoch 137/200\n",
      "26/26 [==============================] - 0s 5ms/step - loss: 5.4196 - mean_absolute_error: 1.6344 - val_loss: 14.5663 - val_mean_absolute_error: 3.0148\n",
      "Epoch 138/200\n",
      "26/26 [==============================] - 0s 5ms/step - loss: 4.6865 - mean_absolute_error: 1.5371 - val_loss: 15.3799 - val_mean_absolute_error: 3.0852\n",
      "Epoch 139/200\n",
      "26/26 [==============================] - 0s 5ms/step - loss: 4.9862 - mean_absolute_error: 1.5744 - val_loss: 12.4557 - val_mean_absolute_error: 2.7427\n",
      "Epoch 140/200\n",
      "26/26 [==============================] - 0s 5ms/step - loss: 5.4012 - mean_absolute_error: 1.6483 - val_loss: 12.3037 - val_mean_absolute_error: 2.7958\n",
      "Epoch 141/200\n",
      "26/26 [==============================] - 0s 5ms/step - loss: 4.6968 - mean_absolute_error: 1.5480 - val_loss: 12.5905 - val_mean_absolute_error: 2.7996\n",
      "Epoch 142/200\n",
      "26/26 [==============================] - 0s 5ms/step - loss: 5.0248 - mean_absolute_error: 1.6167 - val_loss: 12.2293 - val_mean_absolute_error: 2.6985\n",
      "Epoch 143/200\n",
      "26/26 [==============================] - 0s 5ms/step - loss: 5.1653 - mean_absolute_error: 1.6265 - val_loss: 13.1550 - val_mean_absolute_error: 2.8461\n",
      "Epoch 144/200\n",
      "26/26 [==============================] - 0s 5ms/step - loss: 4.9058 - mean_absolute_error: 1.6040 - val_loss: 11.9946 - val_mean_absolute_error: 2.6795\n",
      "Epoch 145/200\n",
      "26/26 [==============================] - 0s 5ms/step - loss: 5.7850 - mean_absolute_error: 1.7176 - val_loss: 14.2718 - val_mean_absolute_error: 2.8829\n",
      "Epoch 146/200\n",
      "26/26 [==============================] - 0s 5ms/step - loss: 5.5180 - mean_absolute_error: 1.7745 - val_loss: 13.9848 - val_mean_absolute_error: 2.8903\n",
      "Epoch 147/200\n",
      "26/26 [==============================] - 0s 5ms/step - loss: 5.3586 - mean_absolute_error: 1.6925 - val_loss: 12.8147 - val_mean_absolute_error: 2.8052\n",
      "Epoch 148/200\n",
      "26/26 [==============================] - 0s 5ms/step - loss: 4.6825 - mean_absolute_error: 1.5213 - val_loss: 12.1691 - val_mean_absolute_error: 2.6914\n",
      "Epoch 149/200\n"
     ]
    },
    {
     "name": "stdout",
     "output_type": "stream",
     "text": [
      "26/26 [==============================] - 0s 5ms/step - loss: 4.8012 - mean_absolute_error: 1.5429 - val_loss: 15.4538 - val_mean_absolute_error: 3.0194\n",
      "Epoch 150/200\n",
      "26/26 [==============================] - 0s 5ms/step - loss: 4.9852 - mean_absolute_error: 1.5671 - val_loss: 13.3150 - val_mean_absolute_error: 2.8931\n",
      "Epoch 151/200\n",
      "26/26 [==============================] - 0s 5ms/step - loss: 5.3817 - mean_absolute_error: 1.6381 - val_loss: 15.4405 - val_mean_absolute_error: 3.0449\n",
      "Epoch 152/200\n",
      "26/26 [==============================] - 0s 5ms/step - loss: 6.5020 - mean_absolute_error: 1.8677 - val_loss: 14.0967 - val_mean_absolute_error: 2.8660\n",
      "Epoch 153/200\n",
      "26/26 [==============================] - 0s 5ms/step - loss: 5.1109 - mean_absolute_error: 1.6205 - val_loss: 12.8284 - val_mean_absolute_error: 2.8228\n",
      "Epoch 154/200\n",
      "26/26 [==============================] - 0s 5ms/step - loss: 4.8882 - mean_absolute_error: 1.5768 - val_loss: 12.0059 - val_mean_absolute_error: 2.7284\n",
      "Epoch 155/200\n",
      "26/26 [==============================] - 0s 5ms/step - loss: 5.2720 - mean_absolute_error: 1.6472 - val_loss: 13.1760 - val_mean_absolute_error: 2.9124\n",
      "Epoch 156/200\n",
      "26/26 [==============================] - 0s 5ms/step - loss: 5.5255 - mean_absolute_error: 1.6976 - val_loss: 13.5192 - val_mean_absolute_error: 2.8436\n",
      "Epoch 157/200\n",
      "26/26 [==============================] - 0s 5ms/step - loss: 4.9766 - mean_absolute_error: 1.5948 - val_loss: 22.8499 - val_mean_absolute_error: 3.7764\n",
      "Epoch 158/200\n",
      "26/26 [==============================] - 0s 5ms/step - loss: 6.7783 - mean_absolute_error: 1.9338 - val_loss: 12.6097 - val_mean_absolute_error: 2.6953\n",
      "Epoch 159/200\n",
      "26/26 [==============================] - 0s 5ms/step - loss: 4.9845 - mean_absolute_error: 1.6640 - val_loss: 14.0583 - val_mean_absolute_error: 2.9933\n",
      "Epoch 160/200\n",
      "26/26 [==============================] - 0s 5ms/step - loss: 4.9590 - mean_absolute_error: 1.6027 - val_loss: 12.0979 - val_mean_absolute_error: 2.6734\n",
      "Epoch 161/200\n",
      "26/26 [==============================] - 0s 5ms/step - loss: 5.6047 - mean_absolute_error: 1.7510 - val_loss: 12.3603 - val_mean_absolute_error: 2.7066\n",
      "Epoch 162/200\n",
      "26/26 [==============================] - 0s 5ms/step - loss: 4.9495 - mean_absolute_error: 1.5544 - val_loss: 12.2542 - val_mean_absolute_error: 2.7612\n",
      "Epoch 163/200\n",
      "26/26 [==============================] - 0s 5ms/step - loss: 4.8924 - mean_absolute_error: 1.5911 - val_loss: 17.7463 - val_mean_absolute_error: 3.5043\n",
      "Epoch 164/200\n",
      "26/26 [==============================] - 0s 5ms/step - loss: 5.3422 - mean_absolute_error: 1.6834 - val_loss: 12.7331 - val_mean_absolute_error: 2.8326\n",
      "Epoch 165/200\n",
      "26/26 [==============================] - 0s 5ms/step - loss: 5.2397 - mean_absolute_error: 1.6575 - val_loss: 12.1881 - val_mean_absolute_error: 2.7629\n",
      "Epoch 166/200\n",
      "26/26 [==============================] - 0s 5ms/step - loss: 5.1880 - mean_absolute_error: 1.6208 - val_loss: 13.8170 - val_mean_absolute_error: 2.8639\n",
      "Epoch 167/200\n",
      "26/26 [==============================] - 0s 5ms/step - loss: 5.1802 - mean_absolute_error: 1.6535 - val_loss: 17.4079 - val_mean_absolute_error: 3.4131\n",
      "Epoch 168/200\n",
      "26/26 [==============================] - 0s 5ms/step - loss: 5.8173 - mean_absolute_error: 1.8032 - val_loss: 12.2227 - val_mean_absolute_error: 2.7598\n",
      "Epoch 169/200\n",
      "26/26 [==============================] - 0s 5ms/step - loss: 5.8043 - mean_absolute_error: 1.7441 - val_loss: 13.3145 - val_mean_absolute_error: 2.8593\n",
      "Epoch 170/200\n",
      "26/26 [==============================] - 0s 5ms/step - loss: 6.0760 - mean_absolute_error: 1.7494 - val_loss: 13.6972 - val_mean_absolute_error: 2.8643\n",
      "Epoch 171/200\n",
      "26/26 [==============================] - 0s 5ms/step - loss: 4.7247 - mean_absolute_error: 1.5466 - val_loss: 13.6995 - val_mean_absolute_error: 2.9294\n",
      "Epoch 172/200\n",
      "26/26 [==============================] - 0s 5ms/step - loss: 5.0133 - mean_absolute_error: 1.6049 - val_loss: 12.6881 - val_mean_absolute_error: 2.8438\n",
      "Epoch 173/200\n",
      "26/26 [==============================] - 0s 5ms/step - loss: 5.9459 - mean_absolute_error: 1.7703 - val_loss: 16.1625 - val_mean_absolute_error: 3.1060\n",
      "Epoch 174/200\n",
      "26/26 [==============================] - 0s 5ms/step - loss: 5.7690 - mean_absolute_error: 1.7725 - val_loss: 12.6641 - val_mean_absolute_error: 2.7050\n",
      "Epoch 175/200\n",
      "26/26 [==============================] - 0s 5ms/step - loss: 5.2592 - mean_absolute_error: 1.6097 - val_loss: 13.9564 - val_mean_absolute_error: 2.9715\n",
      "Epoch 176/200\n",
      "26/26 [==============================] - 0s 5ms/step - loss: 5.1460 - mean_absolute_error: 1.6134 - val_loss: 15.5428 - val_mean_absolute_error: 3.3120\n",
      "Epoch 177/200\n",
      "26/26 [==============================] - 0s 5ms/step - loss: 5.6115 - mean_absolute_error: 1.7025 - val_loss: 12.6398 - val_mean_absolute_error: 2.8074\n",
      "Epoch 178/200\n",
      "26/26 [==============================] - 0s 5ms/step - loss: 4.9029 - mean_absolute_error: 1.5699 - val_loss: 11.9384 - val_mean_absolute_error: 2.6857\n",
      "Epoch 179/200\n",
      "26/26 [==============================] - 0s 5ms/step - loss: 5.0232 - mean_absolute_error: 1.6008 - val_loss: 12.5650 - val_mean_absolute_error: 2.6960\n",
      "Epoch 180/200\n",
      "26/26 [==============================] - 0s 5ms/step - loss: 4.9838 - mean_absolute_error: 1.5874 - val_loss: 13.1302 - val_mean_absolute_error: 2.8281\n",
      "Epoch 181/200\n",
      "26/26 [==============================] - 0s 6ms/step - loss: 5.9392 - mean_absolute_error: 1.8324 - val_loss: 13.3790 - val_mean_absolute_error: 2.8231\n",
      "Epoch 182/200\n",
      "26/26 [==============================] - 0s 5ms/step - loss: 5.3174 - mean_absolute_error: 1.6871 - val_loss: 13.9197 - val_mean_absolute_error: 2.9724\n",
      "Epoch 183/200\n",
      "26/26 [==============================] - 0s 5ms/step - loss: 4.8311 - mean_absolute_error: 1.5590 - val_loss: 13.3156 - val_mean_absolute_error: 2.9185\n",
      "Epoch 184/200\n",
      "26/26 [==============================] - 0s 5ms/step - loss: 4.9228 - mean_absolute_error: 1.5657 - val_loss: 15.2532 - val_mean_absolute_error: 3.1512\n",
      "Epoch 185/200\n",
      "26/26 [==============================] - 0s 5ms/step - loss: 5.5897 - mean_absolute_error: 1.7403 - val_loss: 12.2794 - val_mean_absolute_error: 2.7432\n",
      "Epoch 186/200\n",
      "26/26 [==============================] - 0s 5ms/step - loss: 5.2281 - mean_absolute_error: 1.6808 - val_loss: 14.8632 - val_mean_absolute_error: 2.9513\n",
      "Epoch 187/200\n",
      "26/26 [==============================] - 0s 5ms/step - loss: 5.9735 - mean_absolute_error: 1.8169 - val_loss: 13.0083 - val_mean_absolute_error: 2.9185\n",
      "Epoch 188/200\n",
      "26/26 [==============================] - 0s 5ms/step - loss: 5.2972 - mean_absolute_error: 1.6436 - val_loss: 13.8831 - val_mean_absolute_error: 2.9866\n",
      "Epoch 189/200\n",
      "26/26 [==============================] - 0s 5ms/step - loss: 5.5888 - mean_absolute_error: 1.7047 - val_loss: 14.8647 - val_mean_absolute_error: 3.1666\n",
      "Epoch 190/200\n",
      "26/26 [==============================] - 0s 5ms/step - loss: 5.4691 - mean_absolute_error: 1.6552 - val_loss: 13.4890 - val_mean_absolute_error: 2.8115\n",
      "Epoch 191/200\n",
      "26/26 [==============================] - 0s 5ms/step - loss: 5.4594 - mean_absolute_error: 1.6585 - val_loss: 15.3194 - val_mean_absolute_error: 3.1584\n",
      "Epoch 192/200\n",
      "26/26 [==============================] - 0s 5ms/step - loss: 5.7364 - mean_absolute_error: 1.7566 - val_loss: 19.7127 - val_mean_absolute_error: 3.4830\n",
      "Epoch 193/200\n",
      "26/26 [==============================] - 0s 5ms/step - loss: 5.4578 - mean_absolute_error: 1.6905 - val_loss: 12.9661 - val_mean_absolute_error: 2.7928\n",
      "Epoch 194/200\n",
      "26/26 [==============================] - 0s 5ms/step - loss: 5.4468 - mean_absolute_error: 1.6540 - val_loss: 12.2957 - val_mean_absolute_error: 2.7633\n",
      "Epoch 195/200\n",
      "26/26 [==============================] - 0s 5ms/step - loss: 5.2446 - mean_absolute_error: 1.6271 - val_loss: 13.5235 - val_mean_absolute_error: 2.9392\n",
      "Epoch 196/200\n",
      "26/26 [==============================] - 0s 5ms/step - loss: 6.2639 - mean_absolute_error: 1.8516 - val_loss: 16.7508 - val_mean_absolute_error: 3.3268\n",
      "Epoch 197/200\n",
      "26/26 [==============================] - 0s 5ms/step - loss: 5.3554 - mean_absolute_error: 1.6929 - val_loss: 14.0438 - val_mean_absolute_error: 2.9404\n",
      "Epoch 198/200\n"
     ]
    },
    {
     "name": "stdout",
     "output_type": "stream",
     "text": [
      "26/26 [==============================] - 0s 5ms/step - loss: 5.6071 - mean_absolute_error: 1.7183 - val_loss: 12.4231 - val_mean_absolute_error: 2.7353\n",
      "Epoch 199/200\n",
      "26/26 [==============================] - 0s 5ms/step - loss: 4.6857 - mean_absolute_error: 1.5230 - val_loss: 12.3029 - val_mean_absolute_error: 2.7171\n",
      "Epoch 200/200\n",
      "26/26 [==============================] - 0s 5ms/step - loss: 5.1564 - mean_absolute_error: 1.6431 - val_loss: 13.1080 - val_mean_absolute_error: 2.7567\n"
     ]
    },
    {
     "data": {
      "text/plain": [
       "<keras.callbacks.History at 0x1c019754a30>"
      ]
     },
     "execution_count": 83,
     "metadata": {},
     "output_type": "execute_result"
    }
   ],
   "source": [
    "#building a model\n",
    "\n",
    "import tensorflow as tf\n",
    "from tensorflow.keras.models import Sequential\n",
    "from tensorflow.keras.optimizers import Adam\n",
    "from tensorflow.keras import layers\n",
    "\n",
    "model=Sequential()\n",
    "model.add(layers.Input((3,1)))\n",
    "model.add(layers.LSTM(64))\n",
    "model.add(layers.Dense(32, activation='relu'))\n",
    "model.add(layers.Dense(32, activation='relu'))\n",
    "model.add(layers.Dense(1))\n",
    "\n",
    "model.compile(loss='mse', optimizer=Adam(learning_rate=0.001), metrics=['mean_absolute_error'])\n",
    "\n",
    "model.fit(x_train, y_train, validation_data=(x_val, y_val), epochs=200)"
   ]
  },
  {
   "cell_type": "code",
   "execution_count": 84,
   "id": "e25ee26a",
   "metadata": {},
   "outputs": [
    {
     "name": "stdout",
     "output_type": "stream",
     "text": [
      "26/26 [==============================] - 0s 2ms/step\n"
     ]
    },
    {
     "data": {
      "text/plain": [
       "<matplotlib.legend.Legend at 0x1c01ccea610>"
      ]
     },
     "execution_count": 84,
     "metadata": {},
     "output_type": "execute_result"
    },
    {
     "data": {
      "image/png": "[encoded data removed]",
      "text/plain": [
       "<Figure size 432x288 with 1 Axes>"
      ]
     },
     "metadata": {
      "needs_background": "light"
     },
     "output_type": "display_data"
    }
   ],
   "source": [
    "train_predictions=model.predict(x_train).flatten()\n",
    "plt.plot(dates_train, train_predictions)\n",
    "plt.plot(dates_train, y_train)\n",
    "\n",
    "plt.legend(['Training Predictions', 'Training Observations'])\n",
    "#the trainign observations is actualy what happened, recorded in the data set\n",
    "#the training predictions is the predictions made by the model "
   ]
  },
  {
   "cell_type": "code",
   "execution_count": 85,
   "id": "8aa48f3e",
   "metadata": {},
   "outputs": [
    {
     "name": "stdout",
     "output_type": "stream",
     "text": [
      "4/4 [==============================] - 0s 3ms/step\n"
     ]
    },
    {
     "data": {
      "text/plain": [
       "<matplotlib.legend.Legend at 0x1c01dd42310>"
      ]
     },
     "execution_count": 85,
     "metadata": {},
     "output_type": "execute_result"
    },
    {
     "data": {
      "image/png": "[encoded data removed]",
      "text/plain": [
       "<Figure size 432x288 with 1 Axes>"
      ]
     },
     "metadata": {
      "needs_background": "light"
     },
     "output_type": "display_data"
    }
   ],
   "source": [
    "validation_predictions=model.predict(x_val).flatten()\n",
    "plt.plot(dates_val, validation_predictions)\n",
    "plt.plot(dates_val, y_val)\n",
    "plt.legend(['Validation Predictions', 'Validation Observations'])"
   ]
  },
  {
   "cell_type": "code",
   "execution_count": 86,
   "id": "26a1846f",
   "metadata": {},
   "outputs": [
    {
     "name": "stdout",
     "output_type": "stream",
     "text": [
      "4/4 [==============================] - 0s 3ms/step\n"
     ]
    },
    {
     "data": {
      "text/plain": [
       "<matplotlib.legend.Legend at 0x1c01dda2e80>"
      ]
     },
     "execution_count": 86,
     "metadata": {},
     "output_type": "execute_result"
    },
    {
     "data": {
      "image/png": "[encoded data removed]",
      "text/plain": [
       "<Figure size 432x288 with 1 Axes>"
      ]
     },
     "metadata": {
      "needs_background": "light"
     },
     "output_type": "display_data"
    }
   ],
   "source": [
    "test_predictions=model.predict(x_test).flatten()\n",
    "plt.plot(dates_test, test_predictions)\n",
    "plt.plot(dates_test, y_test)\n",
    "plt.legend(['Test Predictions', 'Test Observations'])"
   ]
  },
  {
   "cell_type": "code",
   "execution_count": 87,
   "id": "27483635",
   "metadata": {},
   "outputs": [
    {
     "data": {
      "text/plain": [
       "<matplotlib.legend.Legend at 0x1c01dd08fd0>"
      ]
     },
     "execution_count": 87,
     "metadata": {},
     "output_type": "execute_result"
    },
    {
     "data": {
      "image/png": "[encoded data removed]",
      "text/plain": [
       "<Figure size 432x288 with 1 Axes>"
      ]
     },
     "metadata": {
      "needs_background": "light"
     },
     "output_type": "display_data"
    }
   ],
   "source": [
    "plt.plot(dates_train, train_predictions)\n",
    "plt.plot(dates_train, y_train)\n",
    "plt.plot(dates_val, validation_predictions)\n",
    "plt.plot(dates_val, y_val)\n",
    "plt.plot(dates_test, test_predictions)\n",
    "plt.plot(dates_test, y_test)\n",
    "plt.legend(['Training predictions', 'Training observations','Validation predictions','Validation observations','Testing predictions','Testing observations'])"
   ]
  }
 ],
 "metadata": {
  "kernelspec": {
   "display_name": "Python 3",
   "language": "python",
   "name": "python3"
  },
  "language_info": {
   "codemirror_mode": {
    "name": "ipython",
    "version": 3
   },
   "file_extension": ".py",
   "mimetype": "text/x-python",
   "name": "python",
   "nbconvert_exporter": "python",
   "pygments_lexer": "ipython3",
   "version": "3.8.8"
  }
 },
 "nbformat": 4,
 "nbformat_minor": 5
}
